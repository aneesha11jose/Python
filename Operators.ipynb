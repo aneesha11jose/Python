{
 "cells": [
  {
   "cell_type": "code",
   "execution_count": 3,
   "id": "f79f947a-ddb6-4c6e-b7fc-2e7518829728",
   "metadata": {},
   "outputs": [
    {
     "name": "stdout",
     "output_type": "stream",
     "text": [
      "Data science\n"
     ]
    },
    {
     "data": {
      "text/plain": [
       "bool"
      ]
     },
     "execution_count": 3,
     "metadata": {},
     "output_type": "execute_result"
    }
   ],
   "source": [
    "#Data Types\n",
    "\n",
    "#String\n",
    "a='Data science'\n",
    "print(a)\n",
    "type(a)\n",
    "\n",
    "#boolean\n",
    "z=True\n",
    "type(z)"
   ]
  },
  {
   "cell_type": "code",
   "execution_count": 5,
   "id": "07cd16be-4f23-494f-b7ba-7fe25e34b4c9",
   "metadata": {},
   "outputs": [
    {
     "name": "stdout",
     "output_type": "stream",
     "text": [
      "10\n",
      "10.0\n",
      "10.0\n",
      "False\n",
      "False\n",
      "1\n",
      "9\n"
     ]
    }
   ],
   "source": [
    "#Type casting\n",
    "\n",
    "print(int (7.2)+3)\n",
    "print(float(10))\n",
    "print(float(\"10\"))\n",
    "print(bool(\"\"))\n",
    "print(bool(0+0j))\n",
    "print(int(True))\n",
    "\n",
    "#auto typecsting\n",
    "print (True+3+5)"
   ]
  },
  {
   "cell_type": "code",
   "execution_count": 7,
   "id": "8b8b8f5a-8c0e-47c0-8536-6fa230ee3ceb",
   "metadata": {},
   "outputs": [
    {
     "name": "stdout",
     "output_type": "stream",
     "text": [
      "aneesha jose\n",
      "eesha\n",
      "jos\n",
      "jose\n",
      "aesajs\n",
      "esoj ahseena\n"
     ]
    }
   ],
   "source": [
    "#Slicing\n",
    "\n",
    "a= \"aneesha jose\"\n",
    "print(a)\n",
    "print(a[2:7])\n",
    "print(a[-4:-1])\n",
    "print(a[-4:])\n",
    "print(a[::2])\n",
    "print(a[::-1])"
   ]
  },
  {
   "cell_type": "code",
   "execution_count": 11,
   "id": "d0fee5cf-9558-4098-9b89-18b43aeb6290",
   "metadata": {},
   "outputs": [
    {
     "name": "stdout",
     "output_type": "stream",
     "text": [
      "False\n",
      "True\n",
      "False\n",
      "True\n"
     ]
    }
   ],
   "source": [
    "#Equality opeator\n",
    "print(5==3)\n",
    "print(5!=3)\n",
    "print(\"anee\"==\"Anee\")\n",
    "print(\"anee\"==\"anee\")\n"
   ]
  },
  {
   "cell_type": "code",
   "execution_count": 13,
   "id": "bb8102c2-3b54-4639-a49b-cb16b24f20c9",
   "metadata": {},
   "outputs": [
    {
     "name": "stdout",
     "output_type": "stream",
     "text": [
      "either a or b is greater than 0\n",
      "c is flase\n"
     ]
    }
   ],
   "source": [
    "#logical opeator\n",
    "\n",
    "#OR\n",
    "a=9\n",
    "b=13\n",
    "if (a>b or a<b):\n",
    "    print(\"either a or b is greater than 0\")\n",
    "\n",
    "#NOT\n",
    "c= False\n",
    "if not c:\n",
    "    print(\"c is flase\")\n",
    "else:\n",
    "    print(\"c is true\")"
   ]
  },
  {
   "cell_type": "code",
   "execution_count": 23,
   "id": "ac6cf3b9-cf8a-4d7d-ad8b-084ddf11fbf4",
   "metadata": {},
   "outputs": [
    {
     "name": "stdout",
     "output_type": "stream",
     "text": [
      "5\n",
      "9\n",
      "4\n",
      "64\n"
     ]
    }
   ],
   "source": [
    "#Arithmetic operators\n",
    "\n",
    "#addition\n",
    "a = 5 \n",
    "print(a)\n",
    "a += 4\n",
    "print(a)\n",
    "\n",
    "#modulus\n",
    "a %= 5\n",
    "print(a)\n",
    "\n",
    "#Exponentiaton\n",
    "a **= 3\n",
    "print(a)\n"
   ]
  },
  {
   "cell_type": "code",
   "execution_count": null,
   "id": "0defe386-83d3-4203-a6a3-d556672c10f6",
   "metadata": {},
   "outputs": [],
   "source": []
  }
 ],
 "metadata": {
  "kernelspec": {
   "display_name": "Python [conda env:base] *",
   "language": "python",
   "name": "conda-base-py"
  },
  "language_info": {
   "codemirror_mode": {
    "name": "ipython",
    "version": 3
   },
   "file_extension": ".py",
   "mimetype": "text/x-python",
   "name": "python",
   "nbconvert_exporter": "python",
   "pygments_lexer": "ipython3",
   "version": "3.12.7"
  }
 },
 "nbformat": 4,
 "nbformat_minor": 5
}
