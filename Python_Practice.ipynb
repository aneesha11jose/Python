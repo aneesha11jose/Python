{
 "cells": [
  {
   "cell_type": "code",
   "execution_count": 122,
   "id": "7271aec5-fe95-4071-be6d-01d374870762",
   "metadata": {},
   "outputs": [
    {
     "name": "stdin",
     "output_type": "stream",
     "text": [
      "enter number1 : 2\n",
      "enter number2 : 8\n"
     ]
    },
    {
     "name": "stdout",
     "output_type": "stream",
     "text": [
      "add: 10\n",
      "dif: -6\n",
      "prod: 16\n",
      "quot: 0.25\n"
     ]
    }
   ],
   "source": [
    "#############################################################################\n",
    "#Operators (Arithmetic, Comparison, Logical, Assignment) \n",
    "#############################################################################\n",
    "\n",
    "#print two number's sum, difference, product, and quotient.\n",
    "\n",
    "a = int(input('enter number1 :'))\n",
    "b = int(input('enter number2 :'))\n",
    "\n",
    "print('add:' , a+b)\n",
    "print('dif:' , a-b)\n",
    "print('prod:' , a*b)\n",
    "print('quot:' , a/b)\n",
    "\n"
   ]
  },
  {
   "cell_type": "code",
   "execution_count": 8,
   "id": "e44e6c4c-59db-4a0f-b97c-395063fe362a",
   "metadata": {},
   "outputs": [
    {
     "name": "stdin",
     "output_type": "stream",
     "text": [
      "enter number: 95\n"
     ]
    },
    {
     "name": "stdout",
     "output_type": "stream",
     "text": [
      "less than 100\n"
     ]
    }
   ],
   "source": [
    "#Take a number and print whether it's greater than 100\n",
    "a = int(input('enter number:'))\n",
    "\n",
    "if a >100 :\n",
    "    print ('greater than 100')\n",
    "else:\n",
    "    print ('less than 100')"
   ]
  },
  {
   "cell_type": "code",
   "execution_count": 14,
   "id": "5ba7e87a-7756-45a7-b7ed-b992a0a5198d",
   "metadata": {},
   "outputs": [
    {
     "name": "stdin",
     "output_type": "stream",
     "text": [
      "enter number1 : 5\n",
      "enter number2 : 6\n"
     ]
    },
    {
     "name": "stdout",
     "output_type": "stream",
     "text": [
      "not same\n"
     ]
    }
   ],
   "source": [
    "#Check if two variables hold the same value\n",
    "a = int(input('enter number1 :'))\n",
    "b = int(input('enter number2 :'))\n",
    "\n",
    "if a == b :\n",
    "    print (' Both variables hold same value')\n",
    "else:\n",
    "    print ('not same')"
   ]
  },
  {
   "cell_type": "code",
   "execution_count": 22,
   "id": "aa79d6bc-2193-4018-8b67-2e3beef2ee8a",
   "metadata": {},
   "outputs": [
    {
     "name": "stdin",
     "output_type": "stream",
     "text": [
      "enter number : 8\n"
     ]
    },
    {
     "name": "stdout",
     "output_type": "stream",
     "text": [
      " not divisible by 3 and 5\n"
     ]
    }
   ],
   "source": [
    "# Take a number and check if it’s divisible by 3 and 5\n",
    "a = int(input('Enter number :'))\n",
    "\n",
    "if a %3 == 0 and a %5 == 0:\n",
    "    print ('Divisible by 3 and 5')\n",
    "elif a %3 == 0:\n",
    "    print ('Divisible by 3')\n",
    "elif a %5 == 0:\n",
    "    print ('Divisible by 5')\n",
    "else:\n",
    "    print (' not divisible by 3 and 5')\n",
    "\n"
   ]
  },
  {
   "cell_type": "code",
   "execution_count": 30,
   "id": "18875874-fd46-449e-8cad-62e0624ad18e",
   "metadata": {},
   "outputs": [
    {
     "name": "stdin",
     "output_type": "stream",
     "text": [
      "Enter number : 9\n"
     ]
    },
    {
     "name": "stdout",
     "output_type": "stream",
     "text": [
      " not even and not divisible by 7\n"
     ]
    }
   ],
   "source": [
    "#Check if a number is either even or divisible by 7\n",
    "a = int(input('Enter number :'))\n",
    "\n",
    "if a %2 == 0 or a %7 == 0:\n",
    "    print ('Number is even or divisible by 7')\n",
    "else:\n",
    "    print (' not even and not divisible by 7')"
   ]
  },
  {
   "cell_type": "code",
   "execution_count": 32,
   "id": "ae46c980-888e-4286-a31d-b307bd14f879",
   "metadata": {},
   "outputs": [
    {
     "name": "stdin",
     "output_type": "stream",
     "text": [
      "Enter number : 4\n"
     ]
    },
    {
     "name": "stdout",
     "output_type": "stream",
     "text": [
      "4\n",
      "8\n",
      "64\n"
     ]
    }
   ],
   "source": [
    "# Use += and *= to modify a variable value\n",
    "\n",
    "a = int(input('Enter number :'))\n",
    "print (a)\n",
    "a += a\n",
    "print (a)\n",
    "a *= a\n",
    "print (a)"
   ]
  },
  {
   "cell_type": "code",
   "execution_count": 36,
   "id": "ddd93ff4-1318-4294-b1a1-c61aad3307b2",
   "metadata": {},
   "outputs": [
    {
     "name": "stdin",
     "output_type": "stream",
     "text": [
      "Enter age of A : 56\n",
      "Enter age of B : 96\n"
     ]
    },
    {
     "name": "stdout",
     "output_type": "stream",
     "text": [
      "B is elder\n"
     ]
    }
   ],
   "source": [
    "#Compare two ages and print who is older. \n",
    "a = int(input('Enter age of A :'))\n",
    "b = int(input('Enter age of B :'))\n",
    "\n",
    "if a > b :\n",
    "    print (' A is elder')\n",
    "else:\n",
    "    print ('B is elder')"
   ]
  },
  {
   "cell_type": "code",
   "execution_count": 38,
   "id": "79677195-aff4-4cd2-8341-db77826211ae",
   "metadata": {},
   "outputs": [
    {
     "name": "stdin",
     "output_type": "stream",
     "text": [
      "Enter age of A : 79\n",
      "Enter age of B : 6\n"
     ]
    },
    {
     "name": "stdout",
     "output_type": "stream",
     "text": [
      "A is elder\n"
     ]
    }
   ],
   "source": [
    "#Use not to reverse a condition result\n",
    "\n",
    "a = int(input('Enter age of A :'))\n",
    "b = int(input('Enter age of B :'))\n",
    "\n",
    "if not a > b :\n",
    "    print (' B is elder')\n",
    "else:\n",
    "    print ('A is elder')\n"
   ]
  },
  {
   "cell_type": "code",
   "execution_count": 46,
   "id": "e39adb86-bf35-4272-988a-907f77d3c1ae",
   "metadata": {},
   "outputs": [
    {
     "name": "stdin",
     "output_type": "stream",
     "text": [
      "Enter number1 : 2\n",
      "Enter number2 : 2\n",
      "Enter number3 : 10\n"
     ]
    },
    {
     "name": "stdout",
     "output_type": "stream",
     "text": [
      " number2 is the smallest\n"
     ]
    }
   ],
   "source": [
    "# Take three numbers and find the smallest using comparison operators\n",
    "a = int(input('Enter number1 :'))\n",
    "b = int(input('Enter number2 :'))\n",
    "c = int(input('Enter number3 :'))\n",
    "\n",
    "if a >= b <= c:\n",
    "    print (' number2 is the smallest')\n",
    "elif b >= a <= c:\n",
    "    print (' number1 is the smallest')\n",
    "else:\n",
    "    print (' number3 is the smallest')\n"
   ]
  },
  {
   "cell_type": "code",
   "execution_count": 50,
   "id": "890628cf-5814-40c3-b18e-61e1d9a4a85b",
   "metadata": {},
   "outputs": [
    {
     "name": "stdin",
     "output_type": "stream",
     "text": [
      "Enter number1 : 10\n",
      "Enter number2 : 15\n"
     ]
    },
    {
     "name": "stdout",
     "output_type": "stream",
     "text": [
      "a: 10\n",
      "b: 15\n",
      " \n",
      "a: 15\n",
      "b: 10\n"
     ]
    }
   ],
   "source": [
    "# Swap two variables using assignment only\n",
    "a = int(input('Enter number1 :'))\n",
    "b = int(input('Enter number2 :'))\n",
    "\n",
    "print ('a:', a)\n",
    "print ('b:',b)\n",
    "\n",
    "c = a\n",
    "a = b\n",
    "b = c\n",
    "print (\" \")\n",
    "print ('a:', a)\n",
    "print ('b:',b)\n",
    "\n"
   ]
  },
  {
   "cell_type": "code",
   "execution_count": 161,
   "id": "e65e6b0c-51dd-42c6-abeb-4bc80e48256b",
   "metadata": {},
   "outputs": [
    {
     "name": "stdout",
     "output_type": "stream",
     "text": [
      "initial list: [10, 12, 33, 4, 5]\n",
      "10\n",
      "12\n",
      "33\n",
      "4\n",
      "5\n",
      "list after adding element: [10, 12, 33, 4, 5, 3]\n",
      "list after adding element: [10, 12, 4, 33, 4, 5, 3]\n",
      "list after poping last element: [10, 12, 4, 33, 4, 5]\n",
      "list after sorting: [4, 4, 5, 10, 12, 33]\n",
      "Reversed list: [33, 12, 10, 5, 4, 4]\n",
      "total:  68\n",
      "max_value = 33\n",
      "min_value = 4\n"
     ]
    },
    {
     "name": "stdin",
     "output_type": "stream",
     "text": [
      "Enter number : 4\n"
     ]
    },
    {
     "name": "stdout",
     "output_type": "stream",
     "text": [
      "item matched\n",
      "count of 4 is:  2\n"
     ]
    }
   ],
   "source": [
    "########################################\n",
    "#Lists \n",
    "########################################\n",
    "\n",
    "#Create a list of 5 items and print each one using a loop.\n",
    "\n",
    "my_list =[10,12,33,4,5]\n",
    "\n",
    "print('initial list:', my_list)\n",
    "for i in my_list:\n",
    "    print (i)\n",
    "\n",
    "#Add an item to the end of a list.\n",
    "\n",
    "my_list.append(3)\n",
    "print('list after adding element:', my_list)\n",
    "\n",
    "# Insert a number at the second position of a list.\n",
    "my_list.insert(2,4)\n",
    "print('list after adding element:', my_list)\n",
    "\n",
    "#Remove the last item from a list.\n",
    "my_list.pop(6)\n",
    "print('list after poping last element:', my_list)\n",
    "\n",
    "# Sort a list of numbers in ascending order. \n",
    "my_list.sort()\n",
    "print('list after sorting:', my_list)\n",
    "\n",
    "# Reverse a list\n",
    "my_list.reverse()\n",
    "print('Reversed list:',my_list)\n",
    "\n",
    "# sum of elements in list\n",
    "#total = sum (my_list)\n",
    "total = 0\n",
    "for i in my_list:\n",
    "    total += i\n",
    "print ('total: ', total)\n",
    "\n",
    "#Find the maximum and minimum values in a list.\n",
    "\n",
    "print ('max_value =', max(my_list))\n",
    "print ('min_value =', min(my_list))\n",
    "\n",
    "# Check if a user-entered item is in a list.\n",
    "a = int(input('Enter number :'))\n",
    "if a in my_list:\n",
    "    print ( 'item matched')\n",
    "else:\n",
    "    print ( 'item not matched')\n",
    "\n",
    "#Count how many times a certain value appears in a list.\n",
    "\n",
    "print (f'count of {a} is: ', my_list.count(a))"
   ]
  },
  {
   "cell_type": "code",
   "execution_count": 213,
   "id": "0cf74595-dda3-4323-b90d-86b40eb40b0e",
   "metadata": {},
   "outputs": [
    {
     "name": "stdout",
     "output_type": "stream",
     "text": [
      "blue\n",
      "<class 'tuple'>\n",
      "('red', 'blue', 'orange', 'green', 'yellow')\n",
      "value matched\n",
      "5\n",
      "('green', 'yellow')\n",
      "('blue', 'orange')\n",
      "('red', 'blue', 'green', 'yellow', 'red', 'blue', 'orange', 'green', 'yellow')\n",
      "x: 5\n",
      "y: 10\n",
      "maxi_value: 15\n",
      "['red', 'blue', 'orange', 'green', 'yellow']\n"
     ]
    }
   ],
   "source": [
    "########################################\n",
    "#Tuple \n",
    "########################################\n",
    "\n",
    "# Create a tuple of 4 colors and print the second one.\n",
    "\n",
    "tuple_list = ('red','blue','green','yellow')\n",
    "print (tuple_list[1])\n",
    "\n",
    "# Try to change a value in a tuple (observe what happens)\n",
    "#tup_list[1] = 'white'\n",
    "#TypeError: 'tuple' object does not support item assignment\n",
    "\n",
    "#Convert a list to a tuple. \n",
    "new_list = ['red','blue','orange','green','yellow']\n",
    "tup_list = tuple(new_list)\n",
    "print (type(tup_list))\n",
    "#print (dir(tup_list))\n",
    "print (tup_list)\n",
    "\n",
    "#Check if a value exists in a tuple. \n",
    "#a = input('Enter color :')\n",
    "a  ='red'\n",
    "if a in tup_list:\n",
    "    print ( 'value matched')\n",
    "else:\n",
    "    print ( 'value not matched')\n",
    "\n",
    "#Find the length of a tuple.\n",
    "print (len(tup_list))\n",
    "\n",
    "#Slice a tuple to get the last two elements. \n",
    "print (tup_list[-2:])\n",
    "print (tup_list[-4:-2])\n",
    "\n",
    "#Concatenate two tuples.\n",
    "concat_tup = tuple_list + tup_list\n",
    "print (concat_tup)\n",
    "\n",
    "#Use a tuple to store coordinates (x, y)\n",
    "\n",
    "coord = (5,10)\n",
    "print ('x:', coord[0])\n",
    "print ('y:', coord[1])\n",
    "\n",
    "#Create a tuple with numbers and find the max value.\n",
    "num_tup = (1,5,8,15)\n",
    "maxi_value = max (num_tup)\n",
    "print('maxi_value:',maxi_value)\n",
    "\n",
    "\n",
    "# Convert a tuple to a list and back again. \n",
    "\n",
    "normal_list = list(tup_list)\n",
    "print (normal_list)"
   ]
  },
  {
   "cell_type": "code",
   "execution_count": 56,
   "id": "9c6823e4-90b8-4621-b2cd-5567d9643c70",
   "metadata": {},
   "outputs": [
    {
     "name": "stdout",
     "output_type": "stream",
     "text": [
      "{'john': 30, 'Manu': 45, 'phil': 50}\n",
      "{'john': 30, 'Manu': 45, 'phil': 50, 'neena': 38, 'Jeo': 39}\n",
      "{'john': 48, 'Manu': 45, 'phil': 50, 'neena': 38, 'Jeo': 39}\n",
      "{'john': 48, 'Manu': 45, 'phil': 50, 'neena': 38}\n",
      "{'john': 48, 'Manu': 45, 'phil': 50}\n",
      "john\n",
      "Manu\n",
      "phil\n",
      "48\n",
      "45\n",
      "50\n"
     ]
    },
    {
     "name": "stdin",
     "output_type": "stream",
     "text": [
      "enter name:  j\n"
     ]
    },
    {
     "name": "stdout",
     "output_type": "stream",
     "text": [
      "Key doesn't exist\n",
      "value =  48\n",
      "key:john, value: 48\n",
      "key:Manu, value: 45\n",
      "key:phil, value: 50\n",
      "{0: 0, 1: 1, 2: 4, 3: 9, 4: 16, 5: 25, 6: 36, 7: 49, 8: 64, 9: 81}\n"
     ]
    }
   ],
   "source": [
    "########################################\n",
    "#Tuple \n",
    "########################################\n",
    "\n",
    "#Create a dictionary of 3 students with their marks. \n",
    "marks = { 'john':30,\n",
    "        'Manu':45,\n",
    "        'phil': 50}\n",
    "print (marks)\n",
    "\n",
    "#Add a new key-value pair to a dictionary.\n",
    "\n",
    "marks['neena'] = 38\n",
    "marks['Jeo'] = 39\n",
    "print (marks)\n",
    "\n",
    "# Update the value of an existing key. \n",
    "marks['john'] = 48\n",
    "print (marks)\n",
    "\n",
    "#Delete a key from the dictionary.\n",
    "del marks['Jeo']\n",
    "print (marks)\n",
    "\n",
    "marks.pop('neena')\n",
    "print (marks)\n",
    "\n",
    "# Print all keys of a dictionary.\n",
    "key_marks = marks.keys()\n",
    "for key in key_marks:\n",
    "     print (key)\n",
    "\n",
    "# Print all values of a dictionary.\n",
    "for value in marks.values():\n",
    "     print (value)\n",
    "\n",
    "#Check if a specific key exists in the dictionary. \n",
    "\n",
    "name = input('enter name: ')\n",
    "for key in marks.keys():\n",
    "    if key == name:\n",
    "        print ('key exist:', key)\n",
    "        break\n",
    "else:\n",
    "    print('Key doesn\\'t exist')\n",
    "\n",
    "#Get the value of a key using get()\n",
    "print ('value = ', marks.get('john'))\n",
    "\n",
    "# Loop through the dictionary and print each key and value.\n",
    "for i,j in marks.items():\n",
    "    print(f\"key:{i}, value: {j}\")\n",
    "\n",
    "#Create a dictionary where keys are numbers and values are their squares.\n",
    "\n",
    "my_dict = {}\n",
    "for i in range(10):\n",
    "    j = i*i\n",
    "    my_dict[i]=j\n",
    "print (my_dict)"
   ]
  },
  {
   "cell_type": "code",
   "execution_count": null,
   "id": "96c0a8c6-fa55-465a-94f2-5b6ede1ce6f0",
   "metadata": {},
   "outputs": [],
   "source": []
  },
  {
   "cell_type": "code",
   "execution_count": null,
   "id": "e901a730-1c43-41bf-bf0f-2a4960cb0af0",
   "metadata": {},
   "outputs": [],
   "source": []
  }
 ],
 "metadata": {
  "kernelspec": {
   "display_name": "Python [conda env:base] *",
   "language": "python",
   "name": "conda-base-py"
  },
  "language_info": {
   "codemirror_mode": {
    "name": "ipython",
    "version": 3
   },
   "file_extension": ".py",
   "mimetype": "text/x-python",
   "name": "python",
   "nbconvert_exporter": "python",
   "pygments_lexer": "ipython3",
   "version": "3.12.7"
  }
 },
 "nbformat": 4,
 "nbformat_minor": 5
}
